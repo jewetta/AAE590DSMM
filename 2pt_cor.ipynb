{
  "nbformat": 4,
  "nbformat_minor": 0,
  "metadata": {
    "colab": {
      "provenance": [],
      "authorship_tag": "ABX9TyNDwR8okYxEJPN7Tl1mrdhX",
      "include_colab_link": true
    },
    "kernelspec": {
      "name": "python3",
      "display_name": "Python 3"
    },
    "language_info": {
      "name": "python"
    }
  },
  "cells": [
    {
      "cell_type": "markdown",
      "metadata": {
        "id": "view-in-github",
        "colab_type": "text"
      },
      "source": [
        "<a href=\"https://colab.research.google.com/github/jewetta/AAE590DSMM/blob/main/2pt_cor.ipynb\" target=\"_parent\"><img src=\"https://colab.research.google.com/assets/colab-badge.svg\" alt=\"Open In Colab\"/></a>"
      ]
    },
    {
      "cell_type": "code",
      "execution_count": null,
      "metadata": {
        "id": "JxIzw2clZGWH"
      },
      "outputs": [],
      "source": []
    },
    {
      "cell_type": "code",
      "source": [
        "import numpy as np\n",
        "import matplotlib.pyplot as plt\n",
        "from skimage import io, filters, color\n",
        "\n",
        "# Load grayscale image (e.g., TIFF, PNG)\n",
        "image = io.imread(\"image_micro.png\")\n",
        "image = color.rgb2gray(image)\n",
        "# Automatic thresholding using Otsu's method\n",
        "thresh = filters.threshold_otsu(image)\n",
        "binary = (image > thresh).astype(np.float32)\n",
        "\n",
        "\n",
        "def two_point_direct(binary, r_max):\n",
        "    height, width = binary.shape\n",
        "    S2 = np.zeros(r_max)\n",
        "    counts = np.zeros(r_max)\n",
        "    phi1 = np.mean(binary)\n",
        "\n",
        "    for i in range(height):\n",
        "        for j in range(width):\n",
        "            if binary[i, j] == 1:\n",
        "                for di in range(-r_max, r_max + 1):\n",
        "                    for dj in range(-r_max, r_max + 1):\n",
        "                        r = int(np.hypot(di, dj))\n",
        "                        if 0 < r < r_max:\n",
        "                            i2 = (i + di) % height  # Periodic boundary\n",
        "                            j2 = (j + dj) % width\n",
        "                            if binary[i2, j2] == 1:\n",
        "                                S2[r] += 1\n",
        "                                counts[r] += 1\n",
        "\n",
        "    return S2 / (counts * phi1**2 + 1e-12)\n",
        "\n",
        "\n",
        "def radial_average(S2):\n",
        "    L = S2.shape[0]\n",
        "    y, x = np.indices((L, L)) - L // 2\n",
        "    r = np.sqrt(x**2 + y**2).astype(int)\n",
        "\n",
        "    r_flat = r.ravel()\n",
        "    S2_flat = S2.ravel()\n",
        "\n",
        "    r_bins = np.arange(0, np.max(r) + 1)\n",
        "    radial_sum = np.bincount(r_flat, weights=S2_flat, minlength=len(r_bins))\n",
        "    counts = np.bincount(r_flat, minlength=len(r_bins))\n",
        "\n",
        "    return radial_sum / (counts + 1e-12)\n",
        "\n",
        "\n",
        "# 1. Load and binarize\n",
        "binary = ...  # From preprocessing\n",
        "\n",
        "# 2. Compute 2-point correlation\n",
        "S2 = two_point_direct(binary, r_max=50)\n",
        "\n",
        "# 3. Radial average\n",
        "r = np.arange(S2.shape[0] // 2)\n",
        "S2_radial = radial_average(S2)[: len(r)]\n",
        "\n",
        "# 4. Plot\n",
        "plt.plot(r, S2_radial)\n",
        "plt.xlabel('Radial Distance (pixels)')\n",
        "plt.ylabel('S2(r)')\n",
        "plt.title('Two-Point Correlation Function')\n",
        "plt.grid(True)\n",
        "plt.show()\n"
      ],
      "metadata": {
        "colab": {
          "base_uri": "https://localhost:8080/",
          "height": 339
        },
        "id": "5BLczO9cZHKZ",
        "outputId": "187c6284-49d2-49c4-e38b-e1da0d4d1e56"
      },
      "execution_count": 3,
      "outputs": [
        {
          "output_type": "error",
          "ename": "AttributeError",
          "evalue": "'ellipsis' object has no attribute 'shape'",
          "traceback": [
            "\u001b[0;31m---------------------------------------------------------------------------\u001b[0m",
            "\u001b[0;31mAttributeError\u001b[0m                            Traceback (most recent call last)",
            "\u001b[0;32m<ipython-input-3-f1100df5c566>\u001b[0m in \u001b[0;36m<cell line: 0>\u001b[0;34m()\u001b[0m\n\u001b[1;32m     52\u001b[0m \u001b[0;34m\u001b[0m\u001b[0m\n\u001b[1;32m     53\u001b[0m \u001b[0;31m# 2. Compute 2-point correlation\u001b[0m\u001b[0;34m\u001b[0m\u001b[0;34m\u001b[0m\u001b[0m\n\u001b[0;32m---> 54\u001b[0;31m \u001b[0mS2\u001b[0m \u001b[0;34m=\u001b[0m \u001b[0mtwo_point_direct\u001b[0m\u001b[0;34m(\u001b[0m\u001b[0mbinary\u001b[0m\u001b[0;34m,\u001b[0m \u001b[0mr_max\u001b[0m\u001b[0;34m=\u001b[0m\u001b[0;36m50\u001b[0m\u001b[0;34m)\u001b[0m\u001b[0;34m\u001b[0m\u001b[0;34m\u001b[0m\u001b[0m\n\u001b[0m\u001b[1;32m     55\u001b[0m \u001b[0;34m\u001b[0m\u001b[0m\n\u001b[1;32m     56\u001b[0m \u001b[0;31m# 3. Radial average\u001b[0m\u001b[0;34m\u001b[0m\u001b[0;34m\u001b[0m\u001b[0m\n",
            "\u001b[0;32m<ipython-input-3-f1100df5c566>\u001b[0m in \u001b[0;36mtwo_point_direct\u001b[0;34m(binary, r_max)\u001b[0m\n\u001b[1;32m     12\u001b[0m \u001b[0;34m\u001b[0m\u001b[0m\n\u001b[1;32m     13\u001b[0m \u001b[0;32mdef\u001b[0m \u001b[0mtwo_point_direct\u001b[0m\u001b[0;34m(\u001b[0m\u001b[0mbinary\u001b[0m\u001b[0;34m,\u001b[0m \u001b[0mr_max\u001b[0m\u001b[0;34m)\u001b[0m\u001b[0;34m:\u001b[0m\u001b[0;34m\u001b[0m\u001b[0;34m\u001b[0m\u001b[0m\n\u001b[0;32m---> 14\u001b[0;31m     \u001b[0mheight\u001b[0m\u001b[0;34m,\u001b[0m \u001b[0mwidth\u001b[0m \u001b[0;34m=\u001b[0m \u001b[0mbinary\u001b[0m\u001b[0;34m.\u001b[0m\u001b[0mshape\u001b[0m\u001b[0;34m\u001b[0m\u001b[0;34m\u001b[0m\u001b[0m\n\u001b[0m\u001b[1;32m     15\u001b[0m     \u001b[0mS2\u001b[0m \u001b[0;34m=\u001b[0m \u001b[0mnp\u001b[0m\u001b[0;34m.\u001b[0m\u001b[0mzeros\u001b[0m\u001b[0;34m(\u001b[0m\u001b[0mr_max\u001b[0m\u001b[0;34m)\u001b[0m\u001b[0;34m\u001b[0m\u001b[0;34m\u001b[0m\u001b[0m\n\u001b[1;32m     16\u001b[0m     \u001b[0mcounts\u001b[0m \u001b[0;34m=\u001b[0m \u001b[0mnp\u001b[0m\u001b[0;34m.\u001b[0m\u001b[0mzeros\u001b[0m\u001b[0;34m(\u001b[0m\u001b[0mr_max\u001b[0m\u001b[0;34m)\u001b[0m\u001b[0;34m\u001b[0m\u001b[0;34m\u001b[0m\u001b[0m\n",
            "\u001b[0;31mAttributeError\u001b[0m: 'ellipsis' object has no attribute 'shape'"
          ]
        }
      ]
    }
  ]
}