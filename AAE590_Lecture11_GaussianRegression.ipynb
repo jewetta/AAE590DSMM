{
  "nbformat": 4,
  "nbformat_minor": 0,
  "metadata": {
    "colab": {
      "provenance": [],
      "authorship_tag": "ABX9TyM3zpWxvXB/md7rgmT0eZHW",
      "include_colab_link": true
    },
    "kernelspec": {
      "name": "python3",
      "display_name": "Python 3"
    },
    "language_info": {
      "name": "python"
    }
  },
  "cells": [
    {
      "cell_type": "markdown",
      "metadata": {
        "id": "view-in-github",
        "colab_type": "text"
      },
      "source": [
        "<a href=\"https://colab.research.google.com/github/jewetta/AAE590DSMM/blob/main/AAE590_Lecture11_GaussianRegression.ipynb\" target=\"_parent\"><img src=\"https://colab.research.google.com/assets/colab-badge.svg\" alt=\"Open In Colab\"/></a>"
      ]
    },
    {
      "cell_type": "code",
      "execution_count": null,
      "metadata": {
        "id": "wNlmzNikMMoa"
      },
      "outputs": [],
      "source": []
    },
    {
      "cell_type": "code",
      "source": [
        "import numpy as np\n",
        "from sklearn.gaussian_process import GaussianProcessRegressor\n",
        "from sklearn.gaussian_process.kernels import RBF, ConstantKernel as C, Matern\n",
        "\n",
        "# Sample data (replace with your actual data)\n",
        "X = np.array([[0.1, 0.5, 0.2, 0.1],  # C, Mn, Si, Cr\n",
        "              [0.2, 0.6, 0.3, 0.2],\n",
        "              [0.15, 0.55, 0.25, 0.15]])\n",
        "y = np.array([500, 550, 525])  # Yield strength\n",
        "\n",
        "# Define the kernel\n",
        "#kernel = C(1.0, (1e-3, 1e3)) * RBF([1.0, 1.0, 1.0, 1.0], (1e-2, 1e2))\n",
        "kernel = C(1.0) * RBF([1.0, 1.0, 1.0, 1.0]) + Matern(length_scale=[1.0, 1.0, 1.0, 1.0], nu=1.5)\n",
        "\n",
        "# Create and fit the GP model\n",
        "gp = GaussianProcessRegressor(kernel=kernel, n_restarts_optimizer=10)\n",
        "gp.fit(X, y)\n",
        "\n",
        "# Predict for a new composition\n",
        "X_new = np.array([[0.18, 0.58, 0.28, 0.18]])\n",
        "y_pred, sigma = gp.predict(X_new, return_std=True)\n",
        "\n",
        "print(f\"Predicted yield strength: {y_pred[0]:.2f} MPa\")\n",
        "print(f\"Uncertainty: {sigma[0]:.2f} MPa\")\n"
      ],
      "metadata": {
        "colab": {
          "base_uri": "https://localhost:8080/"
        },
        "id": "zJnz7_MkMNxs",
        "outputId": "4170cf3e-c70e-4cc6-f5d2-81fb10a88b0f"
      },
      "execution_count": 35,
      "outputs": [
        {
          "output_type": "stream",
          "name": "stdout",
          "text": [
            "Predicted yield strength: 540.18 MPa\n",
            "Uncertainty: 1.24 MPa\n"
          ]
        },
        {
          "output_type": "stream",
          "name": "stderr",
          "text": [
            "/usr/local/lib/python3.11/dist-packages/sklearn/gaussian_process/kernels.py:452: ConvergenceWarning: The optimal value found for dimension 0 of parameter k1__k1__constant_value is close to the specified upper bound 100000.0. Increasing the bound and calling fit again may find a better value.\n",
            "  warnings.warn(\n"
          ]
        }
      ]
    }
  ]
}